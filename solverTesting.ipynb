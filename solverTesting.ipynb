{
 "cells": [
  {
   "cell_type": "code",
   "execution_count": 1,
   "metadata": {},
   "outputs": [],
   "source": [
    "using QuadraticTeamDecisionSolver, Distributions, Statistics, LinearAlgebra, Plots, LaTeXStrings"
   ]
  },
  {
   "cell_type": "code",
   "execution_count": 2,
   "metadata": {},
   "outputs": [
    {
     "data": {
      "text/plain": [
       "\"/home/fe/michelena/Schreibtisch/thesis/progress\""
      ]
     },
     "metadata": {},
     "output_type": "display_data"
    }
   ],
   "source": [
    "#replace with desired directory\n",
    "saveTo = \"/home/fe/michelena/Schreibtisch/thesis/progress\""
   ]
  },
  {
   "cell_type": "code",
   "execution_count": 3,
   "metadata": {},
   "outputs": [],
   "source": [
    "N = 2;\n",
    "σᵣ = 1.5;\n",
    "p = QuadTeamProblem(N, N * N * ones(Int64, N), ones(Int64, N), ComplexF64);\n",
    "t = teamMMSEproblem(\n",
    "\tσᵣ,\n",
    "\tzeros(Float64, N),\n",
    "\tones(Float64, N),\n",
    "\tzeros(Float64, N),\n",
    "\t0.5 * ones(Float64, N),\n",
    "\t0.0 * ones(Float64, N),\n",
    ");\n"
   ]
  },
  {
   "cell_type": "code",
   "execution_count": 4,
   "metadata": {},
   "outputs": [
    {
     "data": {
      "text/plain": [
       "solver! (generic function with 1 method)"
      ]
     },
     "metadata": {},
     "output_type": "display_data"
    }
   ],
   "source": [
    "function solver!(\n",
    "\tp,\n",
    "\tw,\n",
    "\tY,\n",
    "\tR,\n",
    "\tr;\n",
    "\titerations = 10,\n",
    "\th = 0.05,\n",
    "\tλ = 0.01,\n",
    ")\n",
    "\tk(x, y; h = h) = exp((-norm(x - y)^2) / h)\n",
    "\tregression(Y, X) = kernelInterpolation(k, Y, X, λ = λ)\n",
    "\tregressor(w, X, x) = kernelFunction(k, w, X, x)\n",
    "\treturn empiricalJacobiSolver!(\n",
    "\t\tp,\n",
    "\t\tw,\n",
    "\t\tY,\n",
    "\t\tR,\n",
    "\t\tr,\n",
    "\t\tregression,\n",
    "\t\tregressor,\n",
    "\t\titerations = iterations,\n",
    "\t)\n",
    "end\n"
   ]
  },
  {
   "cell_type": "code",
   "execution_count": 5,
   "metadata": {},
   "outputs": [],
   "source": [
    "m = 1000;\n",
    "iterations = 10;\n",
    "Y, R, r = generateTeamMMSEsamples(p, t, m);"
   ]
  },
  {
   "cell_type": "code",
   "execution_count": 6,
   "metadata": {},
   "outputs": [
    {
     "ename": "InterruptException",
     "evalue": "InterruptException:",
     "output_type": "error",
     "traceback": [
      "InterruptException:\n",
      "\n",
      "Stacktrace:\n",
      "  [1] Array\n",
      "    @ ./boot.jl:477 [inlined]\n",
      "  [2] Array\n",
      "    @ ./boot.jl:486 [inlined]\n",
      "  [3] Array\n",
      "    @ ./boot.jl:494 [inlined]\n",
      "  [4] similar\n",
      "    @ ./abstractarray.jl:882 [inlined]\n",
      "  [5] similar\n",
      "    @ ./abstractarray.jl:881 [inlined]\n",
      "  [6] similar\n",
      "    @ ./broadcast.jl:212 [inlined]\n",
      "  [7] similar\n",
      "    @ ./broadcast.jl:211 [inlined]\n",
      "  [8] copy\n",
      "    @ ./broadcast.jl:898 [inlined]\n",
      "  [9] materialize\n",
      "    @ ./broadcast.jl:873 [inlined]\n",
      " [10] broadcast_preserving_zero_d\n",
      "    @ ./broadcast.jl:862 [inlined]\n",
      " [11] -(A::Vector{ComplexF64}, B::Vector{ComplexF64})\n",
      "    @ Base ./arraymath.jl:8\n",
      " [12] k\n",
      "    @ ~/QuadraticTeamDecisionSolver.jl/solverTesting.ipynb:11 [inlined]\n",
      " [13] k\n",
      "    @ ~/QuadraticTeamDecisionSolver.jl/solverTesting.ipynb:11 [inlined]\n",
      " [14] #100\n",
      "    @ ./none:0 [inlined]\n",
      " [15] iterate\n",
      "    @ ./generator.jl:47 [inlined]\n",
      " [16] collect_to!(dest::Matrix{Float64}, itr::Base.Generator{Base.Iterators.ProductIterator{Tuple{Vector{Vector{ComplexF64}}, Vector{Vector{ComplexF64}}}}, QuadraticTeamDecisionSolver.var\"#100#101\"{var\"#k#13\"{Float64, var\"#k#12#14\"}}}, offs::Int64, st::Tuple{Tuple{Vector{ComplexF64}, Int64}, Tuple{Vector{ComplexF64}, Int64}})\n",
      "    @ Base ./array.jl:840\n",
      " [17] collect_to_with_first!\n",
      "    @ ./array.jl:818 [inlined]\n",
      " [18] collect(itr::Base.Generator{Base.Iterators.ProductIterator{Tuple{Vector{Vector{ComplexF64}}, Vector{Vector{ComplexF64}}}}, QuadraticTeamDecisionSolver.var\"#100#101\"{var\"#k#13\"{Float64, var\"#k#12#14\"}}})\n",
      "    @ Base ./array.jl:792\n",
      " [19] gramian(kernel::var\"#k#13\"{Float64, var\"#k#12#14\"}, X::Vector{Vector{ComplexF64}})\n",
      "    @ QuadraticTeamDecisionSolver ~/QuadraticTeamDecisionSolver.jl/src/kernelTools.jl:32\n",
      " [20] kernelInterpolation(kernel::Function, Y::Vector{ComplexF64}, X::Vector{Vector{ComplexF64}}; λ::Float64)\n",
      "    @ QuadraticTeamDecisionSolver ~/QuadraticTeamDecisionSolver.jl/src/kernelTools.jl:110\n",
      " [21] kernelInterpolation\n",
      "    @ ~/QuadraticTeamDecisionSolver.jl/src/kernelTools.jl:109 [inlined]\n",
      " [22] (::var\"#regression#15\"{Float64})(Y::Vector{ComplexF64}, X::Vector{Vector{ComplexF64}})\n",
      "    @ Main ~/QuadraticTeamDecisionSolver.jl/solverTesting.ipynb:12\n",
      " [23] empiricalJacobiSolver!(p::QuadTeamProblem{ComplexF64}, U::Vector{Vector{Vector{ComplexF64}}}, Y::Vector{Vector}, R::Matrix{Vector}, r::Vector{Vector}, regression::var\"#regression#15\"{Float64}, regressor::var\"#regressor#16\"; iterations::Int64)\n",
      "    @ QuadraticTeamDecisionSolver ~/QuadraticTeamDecisionSolver.jl/src/fixedPointSolvers.jl:51\n",
      " [24] empiricalJacobiSolver!\n",
      "    @ ~/QuadraticTeamDecisionSolver.jl/src/fixedPointSolvers.jl:17 [inlined]\n",
      " [25] #solver!#11\n",
      "    @ ~/QuadraticTeamDecisionSolver.jl/solverTesting.ipynb:14 [inlined]\n",
      " [26] solver!(p::QuadTeamProblem{ComplexF64}, w::Vector{Vector{Vector{ComplexF64}}}, Y::Vector{Vector}, R::Matrix{Vector}, r::Vector{Vector})\n",
      "    @ Main ~/QuadraticTeamDecisionSolver.jl/solverTesting.ipynb:1\n",
      " [27] top-level scope\n",
      "    @ ~/QuadraticTeamDecisionSolver.jl/solverTesting.ipynb:2"
     ]
    }
   ],
   "source": [
    "w_jacobi = [[rand(ComplexF64, m)] for _ in 1:p.N];\n",
    "solver!(p, w_jacobi, Y, R, r);"
   ]
  },
  {
   "cell_type": "code",
   "execution_count": 7,
   "metadata": {},
   "outputs": [],
   "source": [
    "conv_jacobi = [norm.(diff(w_jacobi[i])) for i in 1:p.N];"
   ]
  },
  {
   "cell_type": "code",
   "execution_count": 8,
   "metadata": {},
   "outputs": [
    {
     "ename": "BoundsError",
     "evalue": "BoundsError: attempt to access 7-element Vector{Vector{ComplexF64}} at index [8]",
     "output_type": "error",
     "traceback": [
      "BoundsError: attempt to access 7-element Vector{Vector{ComplexF64}} at index [8]\n",
      "\n",
      "Stacktrace:\n",
      "  [1] getindex\n",
      "    @ ./essentials.jl:13 [inlined]\n",
      "  [2] #57\n",
      "    @ ./none:0 [inlined]\n",
      "  [3] iterate\n",
      "    @ ./generator.jl:47 [inlined]\n",
      "  [4] collect(itr::Base.Generator{UnitRange{Int64}, QuadraticTeamDecisionSolver.var\"#57#60\"{Int64, Int64, Vector{Vector{Vector{ComplexF64}}}}})\n",
      "    @ Base ./array.jl:782\n",
      "  [5] #56\n",
      "    @ ./none:0 [inlined]\n",
      "  [6] iterate\n",
      "    @ ./generator.jl:47 [inlined]\n",
      "  [7] collect(itr::Base.Generator{UnitRange{Int64}, QuadraticTeamDecisionSolver.var\"#56#59\"{Int64, Int64, Vector{Vector{Vector{ComplexF64}}}}})\n",
      "    @ Base ./array.jl:782\n",
      "  [8] #55\n",
      "    @ ./none:0 [inlined]\n",
      "  [9] iterate\n",
      "    @ ./generator.jl:47 [inlined]\n",
      " [10] collect_to!(dest::Vector{Vector{Vector{ComplexF64}}}, itr::Base.Generator{UnitRange{Int64}, QuadraticTeamDecisionSolver.var\"#55#58\"{Int64, Int64, Vector{Vector{Vector{ComplexF64}}}}}, offs::Int64, st::Int64)\n",
      "    @ Base ./array.jl:840\n",
      " [11] collect_to_with_first!(dest::Vector{Vector{Vector{ComplexF64}}}, v1::Vector{Vector{ComplexF64}}, itr::Base.Generator{UnitRange{Int64}, QuadraticTeamDecisionSolver.var\"#55#58\"{Int64, Int64, Vector{Vector{Vector{ComplexF64}}}}}, st::Int64)\n",
      "    @ Base ./array.jl:818\n",
      " [12] collect(itr::Base.Generator{UnitRange{Int64}, QuadraticTeamDecisionSolver.var\"#55#58\"{Int64, Int64, Vector{Vector{Vector{ComplexF64}}}}})\n",
      "    @ Base ./array.jl:792\n",
      " [13] reformatU(N::Int64, m::Int64, iterations::Int64, U::Vector{Vector{Vector{ComplexF64}}})\n",
      "    @ QuadraticTeamDecisionSolver ~/QuadraticTeamDecisionSolver.jl/src/problemUtils.jl:244\n",
      " [14] top-level scope\n",
      "    @ ~/QuadraticTeamDecisionSolver.jl/solverTesting.ipynb:3"
     ]
    }
   ],
   "source": [
    "testR = reformatR(p.N, m, R);\n",
    "testr = reformatr(p.N, m, r);\n",
    "testW_jacobi = reformatU(p.N, m, iterations, w_jacobi);"
   ]
  },
  {
   "cell_type": "code",
   "execution_count": 9,
   "metadata": {},
   "outputs": [
    {
     "ename": "UndefVarError",
     "evalue": "UndefVarError: `testW_jacobi` not defined",
     "output_type": "error",
     "traceback": [
      "UndefVarError: `testW_jacobi` not defined\n",
      "\n",
      "Stacktrace:\n",
      " [1] (::var\"#21#22\")(k::Int64)\n",
      "   @ Main ./none:0\n",
      " [2] iterate\n",
      "   @ ./generator.jl:47 [inlined]\n",
      " [3] collect(itr::Base.Generator{UnitRange{Int64}, var\"#21#22\"})\n",
      "   @ Base ./array.jl:782\n",
      " [4] top-level scope\n",
      "   @ ~/QuadraticTeamDecisionSolver.jl/solverTesting.ipynb:1"
     ]
    }
   ],
   "source": [
    "perf_jacobi = [urisk(testW_jacobi[k], testR, testr) for k in 1:iterations];"
   ]
  },
  {
   "cell_type": "code",
   "execution_count": 10,
   "metadata": {},
   "outputs": [
    {
     "ename": "UndefVarError",
     "evalue": "UndefVarError: `perf_jacobi` not defined",
     "output_type": "error",
     "traceback": [
      "UndefVarError: `perf_jacobi` not defined\n",
      "\n",
      "Stacktrace:\n",
      " [1] top-level scope\n",
      "   @ ~/QuadraticTeamDecisionSolver.jl/solverTesting.ipynb:8"
     ]
    }
   ],
   "source": [
    "conv = plot(\n",
    "\tconv_jacobi,\n",
    "\txscale = :log10,\n",
    "\tyscale = :log10,\n",
    "\txlabel = L\"(k)\",\n",
    "\tlabel = [L\"||\\mathbf{U}_{(k)}^1 - \\mathbf{U}_{(k-1)}^1||\" L\"||\\mathbf{U}_{(k)}^2 - \\mathbf{U}_{(k-1)}^2||\"],\n",
    ");\n",
    "perf = plot(\n",
    "\tperf_jacobi,\n",
    "\tyscale = :log10,\n",
    "\txscale = :log10,\n",
    "\txlabel = L\"(k)\",\n",
    "\tlabel = L\"J^{(m)}(\\mathbf{X}; (\\mathbf{U}^1, \\mathbf{U}^2)))\",\n",
    ");\n",
    "plot(conv, perf, layout = (1, 2), size = (1000, 300))\n",
    "savefig(saveTo * \"/convergence.png\");\n",
    "display(Plots.current())\n"
   ]
  },
  {
   "cell_type": "code",
   "execution_count": 11,
   "metadata": {},
   "outputs": [
    {
     "ename": "BoundsError",
     "evalue": "BoundsError: attempt to access 7-element Vector{Vector{ComplexF64}} at index [8]",
     "output_type": "error",
     "traceback": [
      "BoundsError: attempt to access 7-element Vector{Vector{ComplexF64}} at index [8]\n",
      "\n",
      "Stacktrace:\n",
      " [1] getindex(A::Vector{Vector{ComplexF64}}, i1::Int64)\n",
      "   @ Base ./essentials.jl:13\n",
      " [2] top-level scope\n",
      "   @ ~/QuadraticTeamDecisionSolver.jl/solverTesting.ipynb:6"
     ]
    }
   ],
   "source": [
    "# Step 2: Create a 1x5 grid of subplots\n",
    "plot_layout = plot(layout=(2, iterations), legend=false)\n",
    "\n",
    "# Step 3: Generate histograms and add them to the grid\n",
    "for k in 1:iterations\n",
    "    h1 = histogram2d(\n",
    "        w_jacobi[1][k],\n",
    "        normalize=:pdf,\n",
    "        show_empty_bins=false,\n",
    "        normed=true,\n",
    "        aspect_ratio=1,\n",
    "    )\n",
    "    histogram2d!(\n",
    "        plot_layout[k],\n",
    "        w_jacobi[1][k],\n",
    "        normalize=:pdf,\n",
    "        show_empty_bins=false,\n",
    "        normed=true,\n",
    "        aspect_ratio=1,\n",
    "    )\n",
    "\n",
    "    h2 = histogram2d(\n",
    "        w_jacobi[2][k],\n",
    "        normalize=:pdf,\n",
    "        show_empty_bins=false,\n",
    "        normed=true,\n",
    "        aspect_ratio=1,\n",
    "    )\n",
    "    histogram2d!(\n",
    "        plot_layout[2, k],\n",
    "        w_jacobi[2][k],\n",
    "        normalize=:pdf,\n",
    "        show_empty_bins=false,\n",
    "        normed=true,\n",
    "        aspect_ratio=1,\n",
    "    )\n",
    "end\n",
    "\n",
    "# Step 4: Show the plot\n",
    "plot(plot_layout, size=(2500, 500))\n",
    "savefig(saveTo * \"/evolution.png\");\n",
    "display(Plots.current())"
   ]
  },
  {
   "cell_type": "code",
   "execution_count": 12,
   "metadata": {},
   "outputs": [],
   "source": [
    "sinrRange = 10 .^ range(start = -10, stop = 10, length = 10);\n",
    "sinrResult = [\n",
    "\tsinrExperiment(\n",
    "\t\tp,\n",
    "\t\tsolver!,\n",
    "\t\tsinr;\n",
    "\t\tsamples = 1000,\n",
    "\t\titerations = 10,\n",
    "\t\tbandwidth = 0.5,\n",
    "\t\tregularizer = 0.2,\n",
    "\t\teps = 0.0,\n",
    "\t) for sinr in sinrRange\n",
    "];\n"
   ]
  },
  {
   "cell_type": "code",
   "execution_count": null,
   "metadata": {},
   "outputs": [],
   "source": [
    "sinrplt = plot(size = (700, 500))\n",
    "for (sinr, curve) in zip(sinrRange, sinrResult)\n",
    "\tplot!(sinrplt, curve, yscale = :log10, xscale = :log10, legend = false)\n",
    "\n",
    "\t# Get the last point of the current curve to place the label\n",
    "\tx_label = iterations-2\n",
    "\ty_label = last(curve)\n",
    "\n",
    "\t# Add the label on top of the curve\n",
    "\tannotate!(\n",
    "\t\tsinrplt,\n",
    "\t\tx_label,\n",
    "\t\ty_label,\n",
    "\t\ttext(latexstring(\"\\\\sigma = $(sinr)\"), 8, :left, :white, :black, 8),\n",
    "\t)\n",
    "end\n",
    "savefig(saveTo * \"/sinrplt.png\");\n",
    "display(Plots.current())\n"
   ]
  },
  {
   "cell_type": "code",
   "execution_count": null,
   "metadata": {},
   "outputs": [],
   "source": [
    "hRange = 10 .^ range(start = -10, stop = 10, length = 10);\n",
    "hResult = [\n",
    "\tbandwidthExperiment(\n",
    "\t\tp,\n",
    "\t\tsolver!,\n",
    "\t\th;\n",
    "\t\tsamples = 1000,\n",
    "\t\titerations = 10,\n",
    "\t\tsinr = 1.5,\n",
    "\t\tregularizer = 0.2,\n",
    "\t\teps = 0.0,\n",
    "\t) for h in hRange\n",
    "];"
   ]
  },
  {
   "cell_type": "code",
   "execution_count": null,
   "metadata": {},
   "outputs": [],
   "source": [
    "hplt = plot(size = (700, 500))\n",
    "for (h, curve) in zip(sinrRange, hResult)\n",
    "\tplot!(hplt, curve, yscale = :log10, xscale = :log10, legend = false)\n",
    "\n",
    "\t# Get the last point of the current curve to place the label\n",
    "\tx_label = iterations-2\n",
    "\ty_label = last(curve)\n",
    "\n",
    "\t# Add the label on top of the curve\n",
    "\tannotate!(\n",
    "\t\tsinrplt,\n",
    "\t\tx_label,\n",
    "\t\ty_label,\n",
    "\t\ttext(latexstring(\"h = $(h)\"), 8, :left, :white, :black, 8),\n",
    "\t)\n",
    "end\n",
    "savefig(saveTo * \"/hplt.png\");\n",
    "display(Plots.current())"
   ]
  }
 ],
 "metadata": {
  "kernelspec": {
   "display_name": "Julia 1.9.2",
   "language": "julia",
   "name": "julia-1.9"
  },
  "language_info": {
   "file_extension": ".jl",
   "mimetype": "application/julia",
   "name": "julia",
   "version": "1.9.2"
  },
  "orig_nbformat": 4
 },
 "nbformat": 4,
 "nbformat_minor": 2
}
